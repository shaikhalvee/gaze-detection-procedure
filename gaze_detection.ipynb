{
 "cells": [
  {
   "cell_type": "markdown",
   "source": [
    "### Step 1: Import Libraries"
   ],
   "metadata": {
    "collapsed": false
   },
   "id": "512523f33b77cab3"
  },
  {
   "cell_type": "code",
   "outputs": [
    {
     "name": "stdout",
     "output_type": "stream",
     "text": [
      "Requirement already satisfied: jupyter in /Users/shaikhalvee/Documents/PycharmProjects/pythonProject/gazeenv/lib/python3.12/site-packages (1.0.0)\r\n",
      "Requirement already satisfied: jupyterhub in /Users/shaikhalvee/Documents/PycharmProjects/pythonProject/gazeenv/lib/python3.12/site-packages (4.0.2)\r\n",
      "Requirement already satisfied: notebook in /Users/shaikhalvee/Documents/PycharmProjects/pythonProject/gazeenv/lib/python3.12/site-packages (from jupyter) (7.1.1)\r\n",
      "Requirement already satisfied: qtconsole in /Users/shaikhalvee/Documents/PycharmProjects/pythonProject/gazeenv/lib/python3.12/site-packages (from jupyter) (5.5.1)\r\n",
      "Requirement already satisfied: jupyter-console in /Users/shaikhalvee/Documents/PycharmProjects/pythonProject/gazeenv/lib/python3.12/site-packages (from jupyter) (6.6.3)\r\n",
      "Requirement already satisfied: nbconvert in /Users/shaikhalvee/Documents/PycharmProjects/pythonProject/gazeenv/lib/python3.12/site-packages (from jupyter) (7.16.2)\r\n",
      "Requirement already satisfied: ipykernel in /Users/shaikhalvee/Documents/PycharmProjects/pythonProject/gazeenv/lib/python3.12/site-packages (from jupyter) (6.29.3)\r\n",
      "Requirement already satisfied: ipywidgets in /Users/shaikhalvee/Documents/PycharmProjects/pythonProject/gazeenv/lib/python3.12/site-packages (from jupyter) (8.1.2)\r\n",
      "Requirement already satisfied: alembic>=1.4 in /Users/shaikhalvee/Documents/PycharmProjects/pythonProject/gazeenv/lib/python3.12/site-packages (from jupyterhub) (1.13.1)\r\n",
      "Requirement already satisfied: async-generator>=1.9 in /Users/shaikhalvee/Documents/PycharmProjects/pythonProject/gazeenv/lib/python3.12/site-packages (from jupyterhub) (1.10)\r\n",
      "Requirement already satisfied: certipy>=0.1.2 in /Users/shaikhalvee/Documents/PycharmProjects/pythonProject/gazeenv/lib/python3.12/site-packages (from jupyterhub) (0.1.3)\r\n",
      "Requirement already satisfied: jinja2>=2.11.0 in /Users/shaikhalvee/Documents/PycharmProjects/pythonProject/gazeenv/lib/python3.12/site-packages (from jupyterhub) (3.1.3)\r\n",
      "Requirement already satisfied: jupyter-telemetry>=0.1.0 in /Users/shaikhalvee/Documents/PycharmProjects/pythonProject/gazeenv/lib/python3.12/site-packages (from jupyterhub) (0.1.0)\r\n",
      "Requirement already satisfied: oauthlib>=3.0 in /Users/shaikhalvee/Documents/PycharmProjects/pythonProject/gazeenv/lib/python3.12/site-packages (from jupyterhub) (3.2.2)\r\n",
      "Requirement already satisfied: packaging in /Users/shaikhalvee/Documents/PycharmProjects/pythonProject/gazeenv/lib/python3.12/site-packages (from jupyterhub) (23.2)\r\n",
      "Requirement already satisfied: prometheus-client>=0.4.0 in /Users/shaikhalvee/Documents/PycharmProjects/pythonProject/gazeenv/lib/python3.12/site-packages (from jupyterhub) (0.20.0)\r\n",
      "Requirement already satisfied: python-dateutil in /Users/shaikhalvee/Documents/PycharmProjects/pythonProject/gazeenv/lib/python3.12/site-packages (from jupyterhub) (2.9.0.post0)\r\n",
      "Requirement already satisfied: requests in /Users/shaikhalvee/Documents/PycharmProjects/pythonProject/gazeenv/lib/python3.12/site-packages (from jupyterhub) (2.31.0)\r\n",
      "Requirement already satisfied: SQLAlchemy>=1.4 in /Users/shaikhalvee/Documents/PycharmProjects/pythonProject/gazeenv/lib/python3.12/site-packages (from jupyterhub) (2.0.28)\r\n",
      "Requirement already satisfied: tornado>=5.1 in /Users/shaikhalvee/Documents/PycharmProjects/pythonProject/gazeenv/lib/python3.12/site-packages (from jupyterhub) (6.4)\r\n",
      "Requirement already satisfied: traitlets>=4.3.2 in /Users/shaikhalvee/Documents/PycharmProjects/pythonProject/gazeenv/lib/python3.12/site-packages (from jupyterhub) (5.14.1)\r\n",
      "Requirement already satisfied: pamela in /Users/shaikhalvee/Documents/PycharmProjects/pythonProject/gazeenv/lib/python3.12/site-packages (from jupyterhub) (1.1.0)\r\n",
      "Requirement already satisfied: Mako in /Users/shaikhalvee/Documents/PycharmProjects/pythonProject/gazeenv/lib/python3.12/site-packages (from alembic>=1.4->jupyterhub) (1.3.2)\r\n",
      "Requirement already satisfied: typing-extensions>=4 in /Users/shaikhalvee/Documents/PycharmProjects/pythonProject/gazeenv/lib/python3.12/site-packages (from alembic>=1.4->jupyterhub) (4.10.0)\r\n",
      "Requirement already satisfied: pyopenssl in /Users/shaikhalvee/Documents/PycharmProjects/pythonProject/gazeenv/lib/python3.12/site-packages (from certipy>=0.1.2->jupyterhub) (24.0.0)\r\n",
      "Requirement already satisfied: MarkupSafe>=2.0 in /Users/shaikhalvee/Documents/PycharmProjects/pythonProject/gazeenv/lib/python3.12/site-packages (from jinja2>=2.11.0->jupyterhub) (2.1.5)\r\n",
      "Requirement already satisfied: jsonschema in /Users/shaikhalvee/Documents/PycharmProjects/pythonProject/gazeenv/lib/python3.12/site-packages (from jupyter-telemetry>=0.1.0->jupyterhub) (4.21.1)\r\n",
      "Requirement already satisfied: python-json-logger in /Users/shaikhalvee/Documents/PycharmProjects/pythonProject/gazeenv/lib/python3.12/site-packages (from jupyter-telemetry>=0.1.0->jupyterhub) (2.0.7)\r\n",
      "Requirement already satisfied: ruamel.yaml in /Users/shaikhalvee/Documents/PycharmProjects/pythonProject/gazeenv/lib/python3.12/site-packages (from jupyter-telemetry>=0.1.0->jupyterhub) (0.18.6)\r\n",
      "Requirement already satisfied: appnope in /Users/shaikhalvee/Documents/PycharmProjects/pythonProject/gazeenv/lib/python3.12/site-packages (from ipykernel->jupyter) (0.1.4)\r\n",
      "Requirement already satisfied: comm>=0.1.1 in /Users/shaikhalvee/Documents/PycharmProjects/pythonProject/gazeenv/lib/python3.12/site-packages (from ipykernel->jupyter) (0.2.1)\r\n",
      "Requirement already satisfied: debugpy>=1.6.5 in /Users/shaikhalvee/Documents/PycharmProjects/pythonProject/gazeenv/lib/python3.12/site-packages (from ipykernel->jupyter) (1.8.1)\r\n",
      "Requirement already satisfied: ipython>=7.23.1 in /Users/shaikhalvee/Documents/PycharmProjects/pythonProject/gazeenv/lib/python3.12/site-packages (from ipykernel->jupyter) (8.22.2)\r\n",
      "Requirement already satisfied: jupyter-client>=6.1.12 in /Users/shaikhalvee/Documents/PycharmProjects/pythonProject/gazeenv/lib/python3.12/site-packages (from ipykernel->jupyter) (8.6.0)\r\n",
      "Requirement already satisfied: jupyter-core!=5.0.*,>=4.12 in /Users/shaikhalvee/Documents/PycharmProjects/pythonProject/gazeenv/lib/python3.12/site-packages (from ipykernel->jupyter) (5.7.1)\r\n",
      "Requirement already satisfied: matplotlib-inline>=0.1 in /Users/shaikhalvee/Documents/PycharmProjects/pythonProject/gazeenv/lib/python3.12/site-packages (from ipykernel->jupyter) (0.1.6)\r\n",
      "Requirement already satisfied: nest-asyncio in /Users/shaikhalvee/Documents/PycharmProjects/pythonProject/gazeenv/lib/python3.12/site-packages (from ipykernel->jupyter) (1.6.0)\r\n",
      "Requirement already satisfied: psutil in /Users/shaikhalvee/Documents/PycharmProjects/pythonProject/gazeenv/lib/python3.12/site-packages (from ipykernel->jupyter) (5.9.8)\r\n",
      "Requirement already satisfied: pyzmq>=24 in /Users/shaikhalvee/Documents/PycharmProjects/pythonProject/gazeenv/lib/python3.12/site-packages (from ipykernel->jupyter) (25.1.2)\r\n",
      "Requirement already satisfied: widgetsnbextension~=4.0.10 in /Users/shaikhalvee/Documents/PycharmProjects/pythonProject/gazeenv/lib/python3.12/site-packages (from ipywidgets->jupyter) (4.0.10)\r\n",
      "Requirement already satisfied: jupyterlab-widgets~=3.0.10 in /Users/shaikhalvee/Documents/PycharmProjects/pythonProject/gazeenv/lib/python3.12/site-packages (from ipywidgets->jupyter) (3.0.10)\r\n",
      "Requirement already satisfied: prompt-toolkit>=3.0.30 in /Users/shaikhalvee/Documents/PycharmProjects/pythonProject/gazeenv/lib/python3.12/site-packages (from jupyter-console->jupyter) (3.0.43)\r\n",
      "Requirement already satisfied: pygments in /Users/shaikhalvee/Documents/PycharmProjects/pythonProject/gazeenv/lib/python3.12/site-packages (from jupyter-console->jupyter) (2.17.2)\r\n",
      "Requirement already satisfied: beautifulsoup4 in /Users/shaikhalvee/Documents/PycharmProjects/pythonProject/gazeenv/lib/python3.12/site-packages (from nbconvert->jupyter) (4.12.3)\r\n",
      "Requirement already satisfied: bleach!=5.0.0 in /Users/shaikhalvee/Documents/PycharmProjects/pythonProject/gazeenv/lib/python3.12/site-packages (from nbconvert->jupyter) (6.1.0)\r\n",
      "Requirement already satisfied: defusedxml in /Users/shaikhalvee/Documents/PycharmProjects/pythonProject/gazeenv/lib/python3.12/site-packages (from nbconvert->jupyter) (0.7.1)\r\n",
      "Requirement already satisfied: jupyterlab-pygments in /Users/shaikhalvee/Documents/PycharmProjects/pythonProject/gazeenv/lib/python3.12/site-packages (from nbconvert->jupyter) (0.3.0)\r\n",
      "Requirement already satisfied: mistune<4,>=2.0.3 in /Users/shaikhalvee/Documents/PycharmProjects/pythonProject/gazeenv/lib/python3.12/site-packages (from nbconvert->jupyter) (3.0.2)\r\n",
      "Requirement already satisfied: nbclient>=0.5.0 in /Users/shaikhalvee/Documents/PycharmProjects/pythonProject/gazeenv/lib/python3.12/site-packages (from nbconvert->jupyter) (0.9.0)\r\n",
      "Requirement already satisfied: nbformat>=5.7 in /Users/shaikhalvee/Documents/PycharmProjects/pythonProject/gazeenv/lib/python3.12/site-packages (from nbconvert->jupyter) (5.9.2)\r\n",
      "Requirement already satisfied: pandocfilters>=1.4.1 in /Users/shaikhalvee/Documents/PycharmProjects/pythonProject/gazeenv/lib/python3.12/site-packages (from nbconvert->jupyter) (1.5.1)\r\n",
      "Requirement already satisfied: tinycss2 in /Users/shaikhalvee/Documents/PycharmProjects/pythonProject/gazeenv/lib/python3.12/site-packages (from nbconvert->jupyter) (1.2.1)\r\n",
      "Requirement already satisfied: jupyter-server<3,>=2.4.0 in /Users/shaikhalvee/Documents/PycharmProjects/pythonProject/gazeenv/lib/python3.12/site-packages (from notebook->jupyter) (2.13.0)\r\n",
      "Requirement already satisfied: jupyterlab-server<3,>=2.22.1 in /Users/shaikhalvee/Documents/PycharmProjects/pythonProject/gazeenv/lib/python3.12/site-packages (from notebook->jupyter) (2.25.3)\r\n",
      "Requirement already satisfied: jupyterlab<4.2,>=4.1.1 in /Users/shaikhalvee/Documents/PycharmProjects/pythonProject/gazeenv/lib/python3.12/site-packages (from notebook->jupyter) (4.1.4)\r\n",
      "Requirement already satisfied: notebook-shim<0.3,>=0.2 in /Users/shaikhalvee/Documents/PycharmProjects/pythonProject/gazeenv/lib/python3.12/site-packages (from notebook->jupyter) (0.2.4)\r\n",
      "Requirement already satisfied: six>=1.5 in /Users/shaikhalvee/Documents/PycharmProjects/pythonProject/gazeenv/lib/python3.12/site-packages (from python-dateutil->jupyterhub) (1.16.0)\r\n",
      "Requirement already satisfied: qtpy>=2.4.0 in /Users/shaikhalvee/Documents/PycharmProjects/pythonProject/gazeenv/lib/python3.12/site-packages (from qtconsole->jupyter) (2.4.1)\r\n",
      "Requirement already satisfied: charset-normalizer<4,>=2 in /Users/shaikhalvee/Documents/PycharmProjects/pythonProject/gazeenv/lib/python3.12/site-packages (from requests->jupyterhub) (3.3.2)\r\n",
      "Requirement already satisfied: idna<4,>=2.5 in /Users/shaikhalvee/Documents/PycharmProjects/pythonProject/gazeenv/lib/python3.12/site-packages (from requests->jupyterhub) (3.6)\r\n",
      "Requirement already satisfied: urllib3<3,>=1.21.1 in /Users/shaikhalvee/Documents/PycharmProjects/pythonProject/gazeenv/lib/python3.12/site-packages (from requests->jupyterhub) (2.2.1)\r\n",
      "Requirement already satisfied: certifi>=2017.4.17 in /Users/shaikhalvee/Documents/PycharmProjects/pythonProject/gazeenv/lib/python3.12/site-packages (from requests->jupyterhub) (2024.2.2)\r\n",
      "Requirement already satisfied: webencodings in /Users/shaikhalvee/Documents/PycharmProjects/pythonProject/gazeenv/lib/python3.12/site-packages (from bleach!=5.0.0->nbconvert->jupyter) (0.5.1)\r\n",
      "Requirement already satisfied: decorator in /Users/shaikhalvee/Documents/PycharmProjects/pythonProject/gazeenv/lib/python3.12/site-packages (from ipython>=7.23.1->ipykernel->jupyter) (5.1.1)\r\n",
      "Requirement already satisfied: jedi>=0.16 in /Users/shaikhalvee/Documents/PycharmProjects/pythonProject/gazeenv/lib/python3.12/site-packages (from ipython>=7.23.1->ipykernel->jupyter) (0.19.1)\r\n",
      "Requirement already satisfied: stack-data in /Users/shaikhalvee/Documents/PycharmProjects/pythonProject/gazeenv/lib/python3.12/site-packages (from ipython>=7.23.1->ipykernel->jupyter) (0.6.3)\r\n",
      "Requirement already satisfied: pexpect>4.3 in /Users/shaikhalvee/Documents/PycharmProjects/pythonProject/gazeenv/lib/python3.12/site-packages (from ipython>=7.23.1->ipykernel->jupyter) (4.9.0)\r\n",
      "Requirement already satisfied: platformdirs>=2.5 in /Users/shaikhalvee/Documents/PycharmProjects/pythonProject/gazeenv/lib/python3.12/site-packages (from jupyter-core!=5.0.*,>=4.12->ipykernel->jupyter) (4.2.0)\r\n",
      "Requirement already satisfied: anyio>=3.1.0 in /Users/shaikhalvee/Documents/PycharmProjects/pythonProject/gazeenv/lib/python3.12/site-packages (from jupyter-server<3,>=2.4.0->notebook->jupyter) (4.3.0)\r\n",
      "Requirement already satisfied: argon2-cffi in /Users/shaikhalvee/Documents/PycharmProjects/pythonProject/gazeenv/lib/python3.12/site-packages (from jupyter-server<3,>=2.4.0->notebook->jupyter) (23.1.0)\r\n",
      "Requirement already satisfied: jupyter-events>=0.9.0 in /Users/shaikhalvee/Documents/PycharmProjects/pythonProject/gazeenv/lib/python3.12/site-packages (from jupyter-server<3,>=2.4.0->notebook->jupyter) (0.9.0)\r\n",
      "Requirement already satisfied: jupyter-server-terminals in /Users/shaikhalvee/Documents/PycharmProjects/pythonProject/gazeenv/lib/python3.12/site-packages (from jupyter-server<3,>=2.4.0->notebook->jupyter) (0.5.2)\r\n",
      "Requirement already satisfied: overrides in /Users/shaikhalvee/Documents/PycharmProjects/pythonProject/gazeenv/lib/python3.12/site-packages (from jupyter-server<3,>=2.4.0->notebook->jupyter) (7.7.0)\r\n",
      "Requirement already satisfied: send2trash>=1.8.2 in /Users/shaikhalvee/Documents/PycharmProjects/pythonProject/gazeenv/lib/python3.12/site-packages (from jupyter-server<3,>=2.4.0->notebook->jupyter) (1.8.2)\r\n",
      "Requirement already satisfied: terminado>=0.8.3 in /Users/shaikhalvee/Documents/PycharmProjects/pythonProject/gazeenv/lib/python3.12/site-packages (from jupyter-server<3,>=2.4.0->notebook->jupyter) (0.18.0)\r\n",
      "Requirement already satisfied: websocket-client in /Users/shaikhalvee/Documents/PycharmProjects/pythonProject/gazeenv/lib/python3.12/site-packages (from jupyter-server<3,>=2.4.0->notebook->jupyter) (1.7.0)\r\n",
      "Requirement already satisfied: async-lru>=1.0.0 in /Users/shaikhalvee/Documents/PycharmProjects/pythonProject/gazeenv/lib/python3.12/site-packages (from jupyterlab<4.2,>=4.1.1->notebook->jupyter) (2.0.4)\r\n",
      "Requirement already satisfied: httpx>=0.25.0 in /Users/shaikhalvee/Documents/PycharmProjects/pythonProject/gazeenv/lib/python3.12/site-packages (from jupyterlab<4.2,>=4.1.1->notebook->jupyter) (0.27.0)\r\n",
      "Requirement already satisfied: jupyter-lsp>=2.0.0 in /Users/shaikhalvee/Documents/PycharmProjects/pythonProject/gazeenv/lib/python3.12/site-packages (from jupyterlab<4.2,>=4.1.1->notebook->jupyter) (2.2.4)\r\n",
      "Requirement already satisfied: babel>=2.10 in /Users/shaikhalvee/Documents/PycharmProjects/pythonProject/gazeenv/lib/python3.12/site-packages (from jupyterlab-server<3,>=2.22.1->notebook->jupyter) (2.14.0)\r\n",
      "Requirement already satisfied: json5>=0.9.0 in /Users/shaikhalvee/Documents/PycharmProjects/pythonProject/gazeenv/lib/python3.12/site-packages (from jupyterlab-server<3,>=2.22.1->notebook->jupyter) (0.9.22)\r\n",
      "Requirement already satisfied: attrs>=22.2.0 in /Users/shaikhalvee/Documents/PycharmProjects/pythonProject/gazeenv/lib/python3.12/site-packages (from jsonschema->jupyter-telemetry>=0.1.0->jupyterhub) (23.2.0)\r\n",
      "Requirement already satisfied: jsonschema-specifications>=2023.03.6 in /Users/shaikhalvee/Documents/PycharmProjects/pythonProject/gazeenv/lib/python3.12/site-packages (from jsonschema->jupyter-telemetry>=0.1.0->jupyterhub) (2023.12.1)\r\n",
      "Requirement already satisfied: referencing>=0.28.4 in /Users/shaikhalvee/Documents/PycharmProjects/pythonProject/gazeenv/lib/python3.12/site-packages (from jsonschema->jupyter-telemetry>=0.1.0->jupyterhub) (0.33.0)\r\n",
      "Requirement already satisfied: rpds-py>=0.7.1 in /Users/shaikhalvee/Documents/PycharmProjects/pythonProject/gazeenv/lib/python3.12/site-packages (from jsonschema->jupyter-telemetry>=0.1.0->jupyterhub) (0.18.0)\r\n",
      "Requirement already satisfied: fastjsonschema in /Users/shaikhalvee/Documents/PycharmProjects/pythonProject/gazeenv/lib/python3.12/site-packages (from nbformat>=5.7->nbconvert->jupyter) (2.19.1)\r\n",
      "Requirement already satisfied: wcwidth in /Users/shaikhalvee/Documents/PycharmProjects/pythonProject/gazeenv/lib/python3.12/site-packages (from prompt-toolkit>=3.0.30->jupyter-console->jupyter) (0.2.13)\r\n",
      "Requirement already satisfied: soupsieve>1.2 in /Users/shaikhalvee/Documents/PycharmProjects/pythonProject/gazeenv/lib/python3.12/site-packages (from beautifulsoup4->nbconvert->jupyter) (2.5)\r\n",
      "Requirement already satisfied: cryptography<43,>=41.0.5 in /Users/shaikhalvee/Documents/PycharmProjects/pythonProject/gazeenv/lib/python3.12/site-packages (from pyopenssl->certipy>=0.1.2->jupyterhub) (42.0.5)\r\n",
      "Requirement already satisfied: ruamel.yaml.clib>=0.2.7 in /Users/shaikhalvee/Documents/PycharmProjects/pythonProject/gazeenv/lib/python3.12/site-packages (from ruamel.yaml->jupyter-telemetry>=0.1.0->jupyterhub) (0.2.8)\r\n",
      "Requirement already satisfied: sniffio>=1.1 in /Users/shaikhalvee/Documents/PycharmProjects/pythonProject/gazeenv/lib/python3.12/site-packages (from anyio>=3.1.0->jupyter-server<3,>=2.4.0->notebook->jupyter) (1.3.1)\r\n",
      "Requirement already satisfied: cffi>=1.12 in /Users/shaikhalvee/Documents/PycharmProjects/pythonProject/gazeenv/lib/python3.12/site-packages (from cryptography<43,>=41.0.5->pyopenssl->certipy>=0.1.2->jupyterhub) (1.16.0)\r\n",
      "Requirement already satisfied: httpcore==1.* in /Users/shaikhalvee/Documents/PycharmProjects/pythonProject/gazeenv/lib/python3.12/site-packages (from httpx>=0.25.0->jupyterlab<4.2,>=4.1.1->notebook->jupyter) (1.0.4)\r\n",
      "Requirement already satisfied: h11<0.15,>=0.13 in /Users/shaikhalvee/Documents/PycharmProjects/pythonProject/gazeenv/lib/python3.12/site-packages (from httpcore==1.*->httpx>=0.25.0->jupyterlab<4.2,>=4.1.1->notebook->jupyter) (0.14.0)\r\n",
      "Requirement already satisfied: parso<0.9.0,>=0.8.3 in /Users/shaikhalvee/Documents/PycharmProjects/pythonProject/gazeenv/lib/python3.12/site-packages (from jedi>=0.16->ipython>=7.23.1->ipykernel->jupyter) (0.8.3)\r\n",
      "Requirement already satisfied: pyyaml>=5.3 in /Users/shaikhalvee/Documents/PycharmProjects/pythonProject/gazeenv/lib/python3.12/site-packages (from jupyter-events>=0.9.0->jupyter-server<3,>=2.4.0->notebook->jupyter) (6.0.1)\r\n",
      "Requirement already satisfied: rfc3339-validator in /Users/shaikhalvee/Documents/PycharmProjects/pythonProject/gazeenv/lib/python3.12/site-packages (from jupyter-events>=0.9.0->jupyter-server<3,>=2.4.0->notebook->jupyter) (0.1.4)\r\n",
      "Requirement already satisfied: rfc3986-validator>=0.1.1 in /Users/shaikhalvee/Documents/PycharmProjects/pythonProject/gazeenv/lib/python3.12/site-packages (from jupyter-events>=0.9.0->jupyter-server<3,>=2.4.0->notebook->jupyter) (0.1.1)\r\n",
      "Requirement already satisfied: ptyprocess>=0.5 in /Users/shaikhalvee/Documents/PycharmProjects/pythonProject/gazeenv/lib/python3.12/site-packages (from pexpect>4.3->ipython>=7.23.1->ipykernel->jupyter) (0.7.0)\r\n",
      "Requirement already satisfied: argon2-cffi-bindings in /Users/shaikhalvee/Documents/PycharmProjects/pythonProject/gazeenv/lib/python3.12/site-packages (from argon2-cffi->jupyter-server<3,>=2.4.0->notebook->jupyter) (21.2.0)\r\n",
      "Requirement already satisfied: executing>=1.2.0 in /Users/shaikhalvee/Documents/PycharmProjects/pythonProject/gazeenv/lib/python3.12/site-packages (from stack-data->ipython>=7.23.1->ipykernel->jupyter) (2.0.1)\r\n",
      "Requirement already satisfied: asttokens>=2.1.0 in /Users/shaikhalvee/Documents/PycharmProjects/pythonProject/gazeenv/lib/python3.12/site-packages (from stack-data->ipython>=7.23.1->ipykernel->jupyter) (2.4.1)\r\n",
      "Requirement already satisfied: pure-eval in /Users/shaikhalvee/Documents/PycharmProjects/pythonProject/gazeenv/lib/python3.12/site-packages (from stack-data->ipython>=7.23.1->ipykernel->jupyter) (0.2.2)\r\n",
      "Requirement already satisfied: pycparser in /Users/shaikhalvee/Documents/PycharmProjects/pythonProject/gazeenv/lib/python3.12/site-packages (from cffi>=1.12->cryptography<43,>=41.0.5->pyopenssl->certipy>=0.1.2->jupyterhub) (2.21)\r\n",
      "Requirement already satisfied: fqdn in /Users/shaikhalvee/Documents/PycharmProjects/pythonProject/gazeenv/lib/python3.12/site-packages (from jsonschema[format-nongpl]>=4.18.0->jupyter-events>=0.9.0->jupyter-server<3,>=2.4.0->notebook->jupyter) (1.5.1)\r\n",
      "Requirement already satisfied: isoduration in /Users/shaikhalvee/Documents/PycharmProjects/pythonProject/gazeenv/lib/python3.12/site-packages (from jsonschema[format-nongpl]>=4.18.0->jupyter-events>=0.9.0->jupyter-server<3,>=2.4.0->notebook->jupyter) (20.11.0)\r\n",
      "Requirement already satisfied: jsonpointer>1.13 in /Users/shaikhalvee/Documents/PycharmProjects/pythonProject/gazeenv/lib/python3.12/site-packages (from jsonschema[format-nongpl]>=4.18.0->jupyter-events>=0.9.0->jupyter-server<3,>=2.4.0->notebook->jupyter) (2.4)\r\n",
      "Requirement already satisfied: uri-template in /Users/shaikhalvee/Documents/PycharmProjects/pythonProject/gazeenv/lib/python3.12/site-packages (from jsonschema[format-nongpl]>=4.18.0->jupyter-events>=0.9.0->jupyter-server<3,>=2.4.0->notebook->jupyter) (1.3.0)\r\n",
      "Requirement already satisfied: webcolors>=1.11 in /Users/shaikhalvee/Documents/PycharmProjects/pythonProject/gazeenv/lib/python3.12/site-packages (from jsonschema[format-nongpl]>=4.18.0->jupyter-events>=0.9.0->jupyter-server<3,>=2.4.0->notebook->jupyter) (1.13)\r\n",
      "Requirement already satisfied: arrow>=0.15.0 in /Users/shaikhalvee/Documents/PycharmProjects/pythonProject/gazeenv/lib/python3.12/site-packages (from isoduration->jsonschema[format-nongpl]>=4.18.0->jupyter-events>=0.9.0->jupyter-server<3,>=2.4.0->notebook->jupyter) (1.3.0)\r\n",
      "Requirement already satisfied: types-python-dateutil>=2.8.10 in /Users/shaikhalvee/Documents/PycharmProjects/pythonProject/gazeenv/lib/python3.12/site-packages (from arrow>=0.15.0->isoduration->jsonschema[format-nongpl]>=4.18.0->jupyter-events>=0.9.0->jupyter-server<3,>=2.4.0->notebook->jupyter) (2.8.19.20240106)\r\n",
      "Requirement already satisfied: torch in /Users/shaikhalvee/Documents/PycharmProjects/pythonProject/gazeenv/lib/python3.12/site-packages (2.2.1)\r\n",
      "Requirement already satisfied: filelock in /Users/shaikhalvee/Documents/PycharmProjects/pythonProject/gazeenv/lib/python3.12/site-packages (from torch) (3.13.1)\r\n",
      "Requirement already satisfied: typing-extensions>=4.8.0 in /Users/shaikhalvee/Documents/PycharmProjects/pythonProject/gazeenv/lib/python3.12/site-packages (from torch) (4.10.0)\r\n",
      "Requirement already satisfied: sympy in /Users/shaikhalvee/Documents/PycharmProjects/pythonProject/gazeenv/lib/python3.12/site-packages (from torch) (1.12)\r\n",
      "Requirement already satisfied: networkx in /Users/shaikhalvee/Documents/PycharmProjects/pythonProject/gazeenv/lib/python3.12/site-packages (from torch) (3.2.1)\r\n",
      "Requirement already satisfied: jinja2 in /Users/shaikhalvee/Documents/PycharmProjects/pythonProject/gazeenv/lib/python3.12/site-packages (from torch) (3.1.3)\r\n",
      "Requirement already satisfied: fsspec in /Users/shaikhalvee/Documents/PycharmProjects/pythonProject/gazeenv/lib/python3.12/site-packages (from torch) (2024.2.0)\r\n",
      "Requirement already satisfied: MarkupSafe>=2.0 in /Users/shaikhalvee/Documents/PycharmProjects/pythonProject/gazeenv/lib/python3.12/site-packages (from jinja2->torch) (2.1.5)\r\n",
      "Requirement already satisfied: mpmath>=0.19 in /Users/shaikhalvee/Documents/PycharmProjects/pythonProject/gazeenv/lib/python3.12/site-packages (from sympy->torch) (1.3.0)\r\n",
      "Requirement already satisfied: torchvision in /Users/shaikhalvee/Documents/PycharmProjects/pythonProject/gazeenv/lib/python3.12/site-packages (0.17.1)\r\n",
      "Requirement already satisfied: numpy in /Users/shaikhalvee/Documents/PycharmProjects/pythonProject/gazeenv/lib/python3.12/site-packages (from torchvision) (1.26.4)\r\n",
      "Requirement already satisfied: torch==2.2.1 in /Users/shaikhalvee/Documents/PycharmProjects/pythonProject/gazeenv/lib/python3.12/site-packages (from torchvision) (2.2.1)\r\n",
      "Requirement already satisfied: pillow!=8.3.*,>=5.3.0 in /Users/shaikhalvee/Documents/PycharmProjects/pythonProject/gazeenv/lib/python3.12/site-packages (from torchvision) (10.2.0)\r\n",
      "Requirement already satisfied: filelock in /Users/shaikhalvee/Documents/PycharmProjects/pythonProject/gazeenv/lib/python3.12/site-packages (from torch==2.2.1->torchvision) (3.13.1)\r\n",
      "Requirement already satisfied: typing-extensions>=4.8.0 in /Users/shaikhalvee/Documents/PycharmProjects/pythonProject/gazeenv/lib/python3.12/site-packages (from torch==2.2.1->torchvision) (4.10.0)\r\n",
      "Requirement already satisfied: sympy in /Users/shaikhalvee/Documents/PycharmProjects/pythonProject/gazeenv/lib/python3.12/site-packages (from torch==2.2.1->torchvision) (1.12)\r\n",
      "Requirement already satisfied: networkx in /Users/shaikhalvee/Documents/PycharmProjects/pythonProject/gazeenv/lib/python3.12/site-packages (from torch==2.2.1->torchvision) (3.2.1)\r\n",
      "Requirement already satisfied: jinja2 in /Users/shaikhalvee/Documents/PycharmProjects/pythonProject/gazeenv/lib/python3.12/site-packages (from torch==2.2.1->torchvision) (3.1.3)\r\n",
      "Requirement already satisfied: fsspec in /Users/shaikhalvee/Documents/PycharmProjects/pythonProject/gazeenv/lib/python3.12/site-packages (from torch==2.2.1->torchvision) (2024.2.0)\r\n",
      "Requirement already satisfied: MarkupSafe>=2.0 in /Users/shaikhalvee/Documents/PycharmProjects/pythonProject/gazeenv/lib/python3.12/site-packages (from jinja2->torch==2.2.1->torchvision) (2.1.5)\r\n",
      "Requirement already satisfied: mpmath>=0.19 in /Users/shaikhalvee/Documents/PycharmProjects/pythonProject/gazeenv/lib/python3.12/site-packages (from sympy->torch==2.2.1->torchvision) (1.3.0)\r\n",
      "Collecting opencv-python\r\n",
      "  Downloading opencv_python-4.9.0.80-cp37-abi3-macosx_11_0_arm64.whl.metadata (20 kB)\r\n",
      "Requirement already satisfied: numpy>=1.21.2 in /Users/shaikhalvee/Documents/PycharmProjects/pythonProject/gazeenv/lib/python3.12/site-packages (from opencv-python) (1.26.4)\r\n",
      "Downloading opencv_python-4.9.0.80-cp37-abi3-macosx_11_0_arm64.whl (35.4 MB)\r\n",
      "\u001B[2K   \u001B[90m━━━━━━━━━━━━━━━━━━━━━━━━━━━━━━━━━━━━━━━━\u001B[0m \u001B[32m35.4/35.4 MB\u001B[0m \u001B[31m15.6 MB/s\u001B[0m eta \u001B[36m0:00:00\u001B[0m00:01\u001B[0m00:01\u001B[0m\r\n",
      "\u001B[?25hInstalling collected packages: opencv-python\r\n",
      "Successfully installed opencv-python-4.9.0.80\r\n",
      "Requirement already satisfied: numpy in /Users/shaikhalvee/Documents/PycharmProjects/pythonProject/gazeenv/lib/python3.12/site-packages (1.26.4)\r\n"
     ]
    }
   ],
   "source": [
    "!pip install jupyter jupyterhub\n",
    "!pip install torch\n",
    "!pip install torchvision\n",
    "!pip install opencv-python\n",
    "!pip install numpy"
   ],
   "metadata": {
    "collapsed": false,
    "ExecuteTime": {
     "end_time": "2024-03-08T03:53:33.385492Z",
     "start_time": "2024-03-08T03:53:26.158327Z"
    }
   },
   "id": "f070d64a059bdaa2",
   "execution_count": 2
  },
  {
   "cell_type": "code",
   "execution_count": null,
   "id": "initial_id",
   "metadata": {
    "collapsed": true
   },
   "outputs": [],
   "source": [
    "import torch\n",
    "import torch.nn as nn\n",
    "import torch.optim as optim\n",
    "from torchvision import models, transforms\n",
    "from torch.utils.data import DataLoader, Dataset\n",
    "import cv2\n",
    "import numpy as np"
   ]
  },
  {
   "cell_type": "markdown",
   "source": [
    "### Step 2: Define the Dataset\n",
    "\n",
    "Assuming you have a dataset of videos with labeled gaze directions, you'll need to create a custom `Dataset` class that can handle loading these videos and preparing the data for your model.\n"
   ],
   "metadata": {
    "collapsed": false
   },
   "id": "f976c0b09f3db63"
  },
  {
   "cell_type": "code",
   "outputs": [],
   "source": [
    "class GazeDataset(Dataset):\n",
    "    def __init__(self, video_paths, labels, transform=None):\n",
    "        self.video_paths = video_paths\n",
    "        self.labels = labels\n",
    "        self.transform = transform\n",
    "\n",
    "    def __len__(self):\n",
    "        return len(self.video_paths)\n",
    "\n",
    "    def __getitem__(self, idx):\n",
    "        # Load video frames and label\n",
    "        cap = cv2.VideoCapture(self.video_paths[idx])\n",
    "        frames = []\n",
    "        while True:\n",
    "            ret, frame = cap.read()\n",
    "            if not ret:\n",
    "                break\n",
    "            if self.transform:\n",
    "                frame = self.transform(frame)\n",
    "            frames.append(frame)\n",
    "        frames = torch.stack(frames)\n",
    "        label = torch.tensor(self.labels[idx], dtype=torch.float32)\n",
    "        return frames, label\n",
    "\n",
    "# class GazeNet(nn.Module):\n",
    "#     "
   ],
   "metadata": {
    "collapsed": false
   },
   "id": "ee108eb6759e8271"
  },
  {
   "cell_type": "markdown",
   "source": [
    "### Step 3: Model Definition\n",
    "\n",
    "This example model uses a pre-trained ResNet for feature extraction and an LSTM for capturing temporal dynamics.\n"
   ],
   "metadata": {
    "collapsed": false
   },
   "id": "2d22b0f06bd67cc4"
  },
  {
   "cell_type": "code",
   "outputs": [],
   "source": [
    "class GazeDirectionModel(nn.Module):\n",
    "    def __init__(self):\n",
    "        super(GazeDirectionModel, self).__init__()\n",
    "        # Load a pre-trained ResNet and remove the fully connected layer\n",
    "        resnet = models.resnet18(pretrained=True)\n",
    "        self.feature_extractor = nn.Sequential(*list(resnet.children())[:-1])\n",
    "        # Assuming the ResNet outputs 512-dimensional features\n",
    "        self.lstm = nn.LSTM(512, 256, batch_first=True)\n",
    "        self.fc = nn.Linear(256, 2)  # Predicting 2D gaze direction\n",
    "\n",
    "    def forward(self, x):\n",
    "        # x is of shape (batch_size, time_steps, C, H, W)\n",
    "        batch_size, time_steps, C, H, W = x.size()\n",
    "        # Flatten the first two dimensions to apply the feature extractor\n",
    "        x = x.view(batch_size * time_steps, C, H, W)\n",
    "        x = self.feature_extractor(x)\n",
    "        x = x.view(batch_size, time_steps, -1)\n",
    "        # LSTM expects input of shape (batch, seq, feature)\n",
    "        lstm_out, _ = self.lstm(x)\n",
    "        # Take the output of the last time step\n",
    "        lstm_out = lstm_out[:, -1, :]\n",
    "        out = self.fc(lstm_out)\n",
    "        return out\n",
    "\n"
   ],
   "metadata": {
    "collapsed": false
   },
   "id": "686f77ddd22427ec"
  },
  {
   "cell_type": "markdown",
   "source": [
    "### Step 4: Training Loop\n",
    "\n",
    "Here's a simplified version of the training loop.\n"
   ],
   "metadata": {
    "collapsed": false
   },
   "id": "65fd620b5f65c15f"
  },
  {
   "cell_type": "code",
   "outputs": [],
   "source": [
    "# Initialize the model, loss function, and optimizer\n",
    "model = GazeDirectionModel()\n",
    "criterion = nn.MSELoss()  # Assuming gaze direction is a regression problem\n",
    "optimizer = optim.Adam(model.parameters(), lr=0.001)\n",
    "\n",
    "\n",
    "# DataLoader for your dataset\n",
    "train_loader = DataLoader(\n",
    "    GazeDataset(\n",
    "        train_video_paths, \n",
    "        train_labels, \n",
    "        transform=transforms.ToTensor()\n",
    "    ), batch_size=4, shuffle=True\n",
    ")\n",
    "\n",
    "# Training loop\n",
    "for epoch in range(num_epochs):\n",
    "    for frames, labels in train_loader:\n",
    "        optimizer.zero_grad()\n",
    "        outputs = model(frames)\n",
    "        loss = criterion(outputs, labels)\n",
    "        loss.backward()\n",
    "        optimizer.step()\n",
    "    print(f'Epoch {epoch+1}, Loss: {loss.item()}')\n",
    "    # model.eval()\n",
    "\n",
    "# torch.save(model.state_dict())\n",
    "\n"
   ],
   "metadata": {
    "collapsed": false
   },
   "id": "b0c08fbeb88cc02a"
  }
 ],
 "metadata": {
  "kernelspec": {
   "display_name": "Python 3",
   "language": "python",
   "name": "python3"
  },
  "language_info": {
   "codemirror_mode": {
    "name": "ipython",
    "version": 2
   },
   "file_extension": ".py",
   "mimetype": "text/x-python",
   "name": "python",
   "nbconvert_exporter": "python",
   "pygments_lexer": "ipython2",
   "version": "2.7.6"
  }
 },
 "nbformat": 4,
 "nbformat_minor": 5
}
